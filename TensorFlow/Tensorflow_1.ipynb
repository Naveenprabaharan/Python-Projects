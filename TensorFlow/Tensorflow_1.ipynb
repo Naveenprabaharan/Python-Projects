{
  "nbformat": 4,
  "nbformat_minor": 0,
  "metadata": {
    "colab": {
      "name": "Tensorflow-1.ipynb",
      "provenance": [],
      "collapsed_sections": [],
      "toc_visible": true
    },
    "kernelspec": {
      "name": "python3",
      "display_name": "Python 3"
    },
    "language_info": {
      "name": "python"
    }
  },
  "cells": [
    {
      "cell_type": "markdown",
      "metadata": {
        "id": "aOa2Wbt92Vut"
      },
      "source": [
        "## TensorFlow\n",
        "   import tensorflow lib and run the hello world program by using tensorflow"
      ]
    },
    {
      "cell_type": "markdown",
      "metadata": {
        "id": "lwVI3WDi7D2-"
      },
      "source": [
        "# SAMPLE PROGRAM\n"
      ]
    },
    {
      "cell_type": "code",
      "metadata": {
        "id": "1C-MrgWr2Ee7"
      },
      "source": [
        "import tensorflow as tf"
      ],
      "execution_count": null,
      "outputs": []
    },
    {
      "cell_type": "code",
      "metadata": {
        "colab": {
          "base_uri": "https://localhost:8080/"
        },
        "id": "SF9nkIT33rys",
        "outputId": "23db1e85-98c3-4ced-d6a8-88a9a11819f5"
      },
      "source": [
        "with tf.compat.v1.Session() as sess:\n",
        "\n",
        "  hello = tf.constant('Hello TensorFlow!')\n",
        "\n",
        "# sess = tf.compat.v1.Session()\n",
        "\n",
        "  result = sess.run(hello)\n",
        "\n",
        "  print(result)"
      ],
      "execution_count": null,
      "outputs": [
        {
          "output_type": "stream",
          "name": "stdout",
          "text": [
            "b'Hello TensorFlow!'\n"
          ]
        }
      ]
    },
    {
      "cell_type": "code",
      "metadata": {
        "colab": {
          "base_uri": "https://localhost:8080/"
        },
        "id": "DevNSdM95Whr",
        "outputId": "21ee40e5-0f81-4a45-c7cf-681d3a2cb516"
      },
      "source": [
        "with tf.compat.v1.Session() as sess:\n",
        "  a = tf.constant(5.0)\n",
        "  b = tf.constant(6.0)\n",
        "  c  = a * b\n",
        "\n",
        "# Launch the graph in a session.\n",
        "  result = sess.run(c)\n",
        "\n",
        "# Evaluate the tensor `c`.\n",
        "  print(c)"
      ],
      "execution_count": null,
      "outputs": [
        {
          "output_type": "stream",
          "name": "stdout",
          "text": [
            "Tensor(\"mul:0\", shape=(), dtype=float32)\n"
          ]
        }
      ]
    },
    {
      "cell_type": "code",
      "metadata": {
        "colab": {
          "base_uri": "https://localhost:8080/"
        },
        "id": "OMEVeFuj5rQm",
        "outputId": "60a47f4d-e750-4a34-b2df-f78e6cc12865"
      },
      "source": [
        "with tf.compat.v1.Session() as sess:\n",
        "\n",
        "  a = tf.constant(5.0)\n",
        "  b = tf.constant(6.0)\n",
        "  c = tf.multiply(a, b)\n",
        "\n",
        "  result = sess.run(c)\n",
        "  print(result)"
      ],
      "execution_count": null,
      "outputs": [
        {
          "output_type": "stream",
          "name": "stdout",
          "text": [
            "30.0\n"
          ]
        }
      ]
    },
    {
      "cell_type": "code",
      "metadata": {
        "colab": {
          "base_uri": "https://localhost:8080/"
        },
        "id": "9aPWR1mSCORH",
        "outputId": "0c9bc56e-35c5-465a-81db-c3caa8f9e1c8"
      },
      "source": [
        "with tf.compat.v1.Session() as sess:\n",
        "  a = tf.constant(6.0)\n",
        "  b = tf.constant(5.0)\n",
        "\n",
        "  c = tf.multiply(a,b)\n",
        "\n",
        "  result = sess.run(c)\n",
        "\n",
        "  print(\"A+B = \",result)\n",
        "\n",
        "  sess.close()"
      ],
      "execution_count": null,
      "outputs": [
        {
          "output_type": "stream",
          "name": "stdout",
          "text": [
            "A+B =  30.0\n"
          ]
        }
      ]
    },
    {
      "cell_type": "markdown",
      "metadata": {
        "id": "VPd8Di2PENgO"
      },
      "source": [
        "# simple program using placeholder"
      ]
    },
    {
      "cell_type": "code",
      "metadata": {
        "colab": {
          "base_uri": "https://localhost:8080/"
        },
        "id": "ckgDdXjdERgr",
        "outputId": "3388d1b1-ec6a-4362-acfa-2c98a2226891"
      },
      "source": [
        "with tf.compat.v1.Session() as sess:\n",
        "  \n",
        "  # creating placeholder\n",
        "  a = tf.compat.v1.placeholder(tf.float32)\n",
        "  b = tf.compat.v1.placeholder(tf.float32)\n",
        "  \n",
        "  # train a model\n",
        "  adder_node = tf.add(a,b)\n",
        "\n",
        "  # result = sess.run(c,{a:[1,2],b:[3,4]})<another methode to run place holder>\n",
        "\n",
        "  print(sess.run(adder_node ,{a:[1,2],b:[3,4]}))\n",
        "\n",
        "  sess.close()"
      ],
      "execution_count": null,
      "outputs": [
        {
          "output_type": "stream",
          "name": "stdout",
          "text": [
            "[4. 6.]\n"
          ]
        }
      ]
    },
    {
      "cell_type": "markdown",
      "metadata": {
        "id": "an_gMH5ye5W7"
      },
      "source": [
        "# Linear Regression Using Tensorflow\n"
      ]
    },
    {
      "cell_type": "code",
      "metadata": {
        "colab": {
          "base_uri": "https://localhost:8080/"
        },
        "id": "JoyGVIc9fC74",
        "outputId": "9f93cb01-c1b9-4be6-c160-83c746fe963f"
      },
      "source": [
        "# import tensor flow\n",
        "import tensorflow as tf\n",
        "\n",
        "# call session\n",
        "with tf.compat.v1.Session() as sess:\n",
        "  # dexclare placeholder of input\n",
        "  X = tf.compat.v1.placeholder(tf.float32)\n",
        "  y = tf.compat.v1.placeholder(tf.float32)\n",
        "\n",
        "  # decleare variable\n",
        "  W = tf.Variable([.3], tf.float32)\n",
        "  b = tf.Variable([-.3], tf.float32)\n",
        "\n",
        "  # formula simple Linear regresion\n",
        "  linear_model = (X * b) + b\n",
        "\n",
        "  square_data = tf.square(linear_model - y)\n",
        "\n",
        "  loss = tf.reduce_sum(square_data)\n",
        "\n",
        "  init = tf.compat.v1.global_variables_initializer()\n",
        "\n",
        "  sess.run(init)\n",
        "\n",
        "  print(sess.run(loss, {X:[1,2,3,4,5], y:[0,-1,-2,-3,-4]}))\n",
        "\n",
        "  "
      ],
      "execution_count": null,
      "outputs": [
        {
          "output_type": "stream",
          "name": "stdout",
          "text": [
            "8.1\n"
          ]
        }
      ]
    },
    {
      "cell_type": "code",
      "metadata": {
        "colab": {
          "base_uri": "https://localhost:8080/"
        },
        "id": "JifCU45DouLb",
        "outputId": "718f74a7-01b7-4ff1-b254-97ba719875d1"
      },
      "source": [
        "# import tensor flow\n",
        "import tensorflow as tf\n",
        "\n",
        "# call session\n",
        "with tf.compat.v1.Session() as sess:\n",
        "  # dexclare placeholder of input\n",
        "  X = tf.compat.v1.placeholder(tf.float32)\n",
        "  y = tf.compat.v1.placeholder(tf.float32)\n",
        "\n",
        "  # decleare variable\n",
        "  W = tf.Variable([.3], tf.float32)\n",
        "  b = tf.Variable([-.3], tf.float32)\n",
        "\n",
        "  # formula simple Linear regresion\n",
        "  linear_model = (X * b) + b\n",
        "\n",
        "  square_data = tf.square(linear_model - y)\n",
        "\n",
        "  loss = tf.reduce_sum(square_data)\n",
        "\n",
        "  init = tf.compat.v1.global_variables_initializer()\n",
        "\n",
        "  optimizer = tf.compat.v1.train.GradientDescentOptimizer(0.01)\n",
        "\n",
        "  Train = optimizer.minimize(loss)\n",
        "\n",
        "  sess.run(init)\n",
        "\n",
        "  for i in range(1000):\n",
        "    sess.run(Train, {X:[1,2,3,4,5], y:[0,-1,-2,-3,-4]})\n",
        "  print(sess.run([W,b]))\n",
        "\n",
        "  "
      ],
      "execution_count": null,
      "outputs": [
        {
          "output_type": "stream",
          "name": "stdout",
          "text": [
            "[array([0.3], dtype=float32), array([-0.5555554], dtype=float32)]\n"
          ]
        }
      ]
    },
    {
      "cell_type": "code",
      "metadata": {
        "colab": {
          "base_uri": "https://localhost:8080/"
        },
        "id": "dxdJCj0xKeC9",
        "outputId": "05af745e-9f41-4b06-fed8-dc695ff9dd4d"
      },
      "source": [
        "\n",
        "# temporary run\n",
        "with tf.compat.v1.Session() as sess:\n",
        "  X = tf.compat.v1.placeholder(tf.float32)\n",
        "  y = tf.compat.v1.placeholder(tf.float32)\n",
        "\n",
        "  w = tf.Variable([0.3],tf.float32)\n",
        "  b = tf.Variable([-0.3],tf.float32)\n",
        "\n",
        "  linear_node = X * w + b\n",
        "\n",
        "  square_data = tf.compat.v1.square(linear_node - y)\n",
        "  loss = tf.reduce_sum(square_data)\n",
        "\n",
        "  init = tf.compat.v1.global_variables_initializer()\n",
        "\n",
        "  sess.run(init)\n",
        "\n",
        "  optimizer = tf.compat.v1.train.GradientDescentOptimizer(0.01)\n",
        "  Train = optimizer.minimize(loss)\n",
        "\n",
        "  for i in range(1000):\n",
        "    sess.run(Train,{X:[0,2,3,4,5], y:[0,-1,-2,-3,-4]})\n",
        "\n",
        "  print(sess.run([w,b]))\n",
        "\n"
      ],
      "execution_count": null,
      "outputs": [
        {
          "output_type": "stream",
          "name": "stdout",
          "text": [
            "[array([-0.81081057], dtype=float32), array([0.27026948], dtype=float32)]\n"
          ]
        }
      ]
    },
    {
      "cell_type": "markdown",
      "metadata": {
        "id": "6-gP-_v8OX5E"
      },
      "source": [
        "## Evalute function"
      ]
    },
    {
      "cell_type": "code",
      "metadata": {
        "colab": {
          "base_uri": "https://localhost:8080/"
        },
        "id": "3RM9NmPZJ3Ml",
        "outputId": "67b6f229-cca2-4bb1-ddc7-ddd707f4767a"
      },
      "source": [
        "# evalate  the function\n",
        "\n",
        "import tensorflow as tf\n",
        "\n",
        "with tf.compat.v1.Session() as sess:\n",
        "  with sess.as_default():\n",
        "    a = tf.constant(3)\n",
        "\n",
        "    print(a.eval())\n",
        "\n",
        "    sess.close()"
      ],
      "execution_count": null,
      "outputs": [
        {
          "output_type": "stream",
          "name": "stdout",
          "text": [
            "3\n"
          ]
        }
      ]
    },
    {
      "cell_type": "markdown",
      "metadata": {
        "id": "YHiZZMUoPaLP"
      },
      "source": [
        "## Feed dictionary"
      ]
    },
    {
      "cell_type": "code",
      "metadata": {
        "colab": {
          "base_uri": "https://localhost:8080/"
        },
        "id": "ATUnnoymJ2pR",
        "outputId": "e9d4a810-7322-41fa-a474-23bb1b0c6e84"
      },
      "source": [
        "with tf.compat.v1.Session() as sess:\n",
        "  a = tf.constant(3)\n",
        "  b = tf.constant(5)\n",
        "  \n",
        "  # adder\n",
        "  adder = tf.add(a,b)  #8\n",
        "\n",
        "  # multiplay\n",
        "  multii = tf.multiply(adder,10) #80\n",
        "\n",
        "  print(sess.run(multii)) #session run\n",
        "\n",
        "\n",
        "  #  create dictionary variable as replacer\n",
        "  replacer = {adder:12}\n",
        "  print(sess.run(multii, replacer)) # feeding replacer\n",
        "\n",
        "  sess.close()"
      ],
      "execution_count": null,
      "outputs": [
        {
          "output_type": "stream",
          "name": "stdout",
          "text": [
            "80\n",
            "120\n"
          ]
        }
      ]
    },
    {
      "cell_type": "markdown",
      "metadata": {
        "id": "nhMymi1z33H9"
      },
      "source": [
        "## Constructor"
      ]
    },
    {
      "cell_type": "code",
      "metadata": {
        "colab": {
          "base_uri": "https://localhost:8080/"
        },
        "id": "-EENIpfk36hD",
        "outputId": "d12beb85-36fe-447d-91b2-6eb2b122237d"
      },
      "source": [
        "import tensorflow as tf\n",
        "\n",
        "with tf.compat.v1.Session() as sess:\n",
        "\n",
        "  my_var = tf.Variable(4, name='my_var')\n",
        "\n",
        "  add = tf.add(5,my_var)\n",
        "\n",
        "  multi = tf.multiply(6,my_var)\n",
        "\n",
        "  # variable initizlizer\n",
        "  sess.run(my_var.initializer)\n",
        "\n",
        "  print(my_var.eval(session=sess))\n",
        "\n",
        "  print(add.eval(session=sess))\n",
        "\n",
        "  print(multi.eval(session=sess))"
      ],
      "execution_count": 4,
      "outputs": [
        {
          "output_type": "stream",
          "name": "stdout",
          "text": [
            "4\n",
            "9\n",
            "24\n"
          ]
        }
      ]
    },
    {
      "cell_type": "markdown",
      "metadata": {
        "id": "_sR70_Uu9e1H"
      },
      "source": [
        "## using constrctor  array with placeholder"
      ]
    },
    {
      "cell_type": "code",
      "metadata": {
        "colab": {
          "base_uri": "https://localhost:8080/"
        },
        "id": "S7Y9UAqB9doT",
        "outputId": "7b155726-c370-4b2d-d14a-18cfbfb5431f"
      },
      "source": [
        "import numpy as np\n",
        "with tf.compat.v1.Session() as sess:\n",
        "\n",
        "  a = tf.compat.v1.placeholder(tf.int32, shape=[3], name='a')\n",
        "\n",
        "  b = tf.compat.v1.reduce_prod(a, name='prod_b')\n",
        "\n",
        "  c = tf.compat.v1.reduce_sum(a , name='sum_c')\n",
        "\n",
        "  d = tf.add(b,c, name='add_d')\n",
        "\n",
        "  feed_data = {a:np.array([1,2,3], dtype=np.int32)}\n",
        "\n",
        "  print(sess.run(d,feed_data))\n",
        "  "
      ],
      "execution_count": 11,
      "outputs": [
        {
          "output_type": "stream",
          "name": "stdout",
          "text": [
            "12\n"
          ]
        }
      ]
    },
    {
      "cell_type": "markdown",
      "metadata": {
        "id": "tPSC3nqeAM_U"
      },
      "source": [
        "# Practical session"
      ]
    },
    {
      "cell_type": "markdown",
      "metadata": {
        "id": "_PikyO0OAdBp"
      },
      "source": [
        "## Addition"
      ]
    },
    {
      "cell_type": "code",
      "metadata": {
        "colab": {
          "base_uri": "https://localhost:8080/"
        },
        "id": "UQSLzHvUAb0e",
        "outputId": "7615da45-4f6b-4958-96ce-d3685ca84011"
      },
      "source": [
        "import numpy as np\n",
        "\n",
        "with tf.compat.v1.Session() as sess:\n",
        "  a = tf.constant(3)\n",
        "\n",
        "  b  = tf.constant(6)\n",
        "\n",
        "  result = tf.add(a,b)\n",
        "  print(sess.run(result))"
      ],
      "execution_count": 26,
      "outputs": [
        {
          "output_type": "stream",
          "name": "stdout",
          "text": [
            "9\n"
          ]
        }
      ]
    },
    {
      "cell_type": "markdown",
      "metadata": {
        "id": "2KR0bzfIGh1t"
      },
      "source": [
        "# Final program"
      ]
    },
    {
      "cell_type": "code",
      "metadata": {
        "colab": {
          "base_uri": "https://localhost:8080/"
        },
        "id": "IESq_dBIGmYk",
        "outputId": "944c7947-1ec1-4f71-ed08-3a8d18c8663e"
      },
      "source": [
        "# finding w and b\n",
        "\n",
        "import tensorflow as tf\n",
        "import numpy as np\n",
        "\n",
        "with tf.compat.v1.Session() as sess:\n",
        "\n",
        "  # creating  x_data and y_data\n",
        "\n",
        "  x_data = np.random.rand(100).astype(np.float32)\n",
        "  y_data = x_data *0.1 + 1\n",
        "\n",
        "  # formula: y = x_data *  W + b\n",
        "  \n",
        "  # finding w and b variable\n",
        "  w = tf.Variable(tf.random.uniform([1],-0.1,0.1))\n",
        "  b = tf.Variable(tf.zeros([1]))\n",
        "  y = x_data * w + b\n",
        "\n",
        "\n",
        "  # finding cost function\n",
        "  cost = tf.reduce_mean(tf.square(y - y_data))\n",
        "  optimizer = tf.compat.v1.train.GradientDescentOptimizer(0.5)\n",
        "  train = optimizer.minimize(cost)\n",
        "  init = tf.compat.v1.global_variables_initializer()\n",
        "  \n",
        "  # run the initializer and train methode\n",
        "  sess.run(init)\n",
        "  sess.run(train)\n",
        "  for step in range(200):\n",
        "    \n",
        "    if step%20==0:\n",
        "      print(step,sess.run(w),sess.run(b))\n",
        "\n"
      ],
      "execution_count": 39,
      "outputs": [
        {
          "output_type": "stream",
          "name": "stdout",
          "text": [
            "0 [0.45215702] [1.0549124]\n",
            "20 [0.45215702] [1.0549124]\n",
            "40 [0.45215702] [1.0549124]\n",
            "60 [0.45215702] [1.0549124]\n",
            "80 [0.45215702] [1.0549124]\n",
            "100 [0.45215702] [1.0549124]\n",
            "120 [0.45215702] [1.0549124]\n",
            "140 [0.45215702] [1.0549124]\n",
            "160 [0.45215702] [1.0549124]\n",
            "180 [0.45215702] [1.0549124]\n"
          ]
        }
      ]
    },
    {
      "cell_type": "code",
      "metadata": {
        "colab": {
          "base_uri": "https://localhost:8080/"
        },
        "id": "-Od6uNHEJzpK",
        "outputId": "e3ccd989-6edf-45a7-f1ae-b1bc4dee3b6c"
      },
      "source": [
        "print(x_data)"
      ],
      "execution_count": 40,
      "outputs": [
        {
          "output_type": "stream",
          "name": "stdout",
          "text": [
            "[0.46852043 0.70571476 0.8515873  0.59028983 0.7772751  0.525941\n",
            " 0.5428711  0.21970579 0.52221686 0.23999253 0.99932325 0.42297304\n",
            " 0.6110932  0.64032537 0.8699346  0.9757319  0.9169465  0.7610318\n",
            " 0.8949953  0.16860656 0.5617918  0.48072726 0.18172918 0.3071303\n",
            " 0.19842069 0.24682887 0.11690157 0.5192426  0.6049207  0.5507075\n",
            " 0.2335583  0.84625256 0.38210297 0.55819875 0.7879822  0.6704507\n",
            " 0.1104714  0.29001993 0.15042919 0.48415107 0.651248   0.29513803\n",
            " 0.42197722 0.8543873  0.57851726 0.02026746 0.15015751 0.8737276\n",
            " 0.22413526 0.892353   0.12506562 0.2998514  0.23053183 0.24513908\n",
            " 0.07740624 0.11656667 0.3931069  0.75491893 0.8884985  0.39899498\n",
            " 0.29449502 0.73699194 0.45755076 0.05478851 0.44949034 0.40699163\n",
            " 0.19209243 0.2668413  0.7676804  0.48610538 0.03640195 0.4596347\n",
            " 0.1545029  0.27008206 0.911216   0.21095309 0.784599   0.9858831\n",
            " 0.04656194 0.7000904  0.58822566 0.24614716 0.19000627 0.62026054\n",
            " 0.05078809 0.08756208 0.20758508 0.2921432  0.01063006 0.07321312\n",
            " 0.06494743 0.12936848 0.97812164 0.09231709 0.777802   0.6576265\n",
            " 0.38265973 0.17685404 0.28554153 0.14233989]\n"
          ]
        }
      ]
    },
    {
      "cell_type": "code",
      "metadata": {
        "colab": {
          "base_uri": "https://localhost:8080/"
        },
        "id": "5BtKFahoJziM",
        "outputId": "182acc84-bd41-4ee4-d23a-6b5116ae63bb"
      },
      "source": [
        "print(y_data)"
      ],
      "execution_count": 41,
      "outputs": [
        {
          "output_type": "stream",
          "name": "stdout",
          "text": [
            "[1.046852  1.0705714 1.0851587 1.059029  1.0777276 1.0525941 1.0542871\n",
            " 1.0219706 1.0522217 1.0239992 1.0999323 1.0422974 1.0611093 1.0640326\n",
            " 1.0869935 1.0975732 1.0916946 1.0761032 1.0894995 1.0168606 1.0561792\n",
            " 1.0480727 1.0181729 1.0307131 1.019842  1.0246829 1.0116901 1.0519242\n",
            " 1.060492  1.0550708 1.0233558 1.0846252 1.0382103 1.0558199 1.0787982\n",
            " 1.0670451 1.0110471 1.029002  1.0150429 1.0484151 1.0651248 1.0295138\n",
            " 1.0421977 1.0854387 1.0578517 1.0020268 1.0150157 1.0873728 1.0224135\n",
            " 1.0892353 1.0125066 1.0299852 1.0230532 1.024514  1.0077406 1.0116566\n",
            " 1.0393107 1.0754919 1.0888499 1.0398995 1.0294495 1.0736992 1.045755\n",
            " 1.0054789 1.044949  1.0406991 1.0192093 1.0266842 1.076768  1.0486106\n",
            " 1.0036402 1.0459635 1.0154502 1.0270082 1.0911216 1.0210953 1.0784599\n",
            " 1.0985883 1.0046562 1.070009  1.0588225 1.0246147 1.0190006 1.062026\n",
            " 1.0050788 1.0087562 1.0207585 1.0292143 1.001063  1.0073214 1.0064948\n",
            " 1.0129368 1.0978122 1.0092317 1.0777802 1.0657626 1.038266  1.0176854\n",
            " 1.0285542 1.014234 ]\n"
          ]
        }
      ]
    }
  ]
}